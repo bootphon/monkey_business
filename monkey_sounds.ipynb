{
 "metadata": {
  "name": "",
  "signature": "sha256:0f5291c4b0d83174ac1756b4dd9d8afc2bb06024d8ade4e2043c22df44369114"
 },
 "nbformat": 3,
 "nbformat_minor": 0,
 "worksheets": [
  {
   "cells": [
    {
     "cell_type": "code",
     "collapsed": false,
     "input": [
      "import numpy as np\n",
      "import matplotlib.pyplot as plt\n",
      "import scikits.audiolab as audiolab\n",
      "import os\n",
      "import os.path as path\n",
      "import fnmatch\n",
      "import itertools\n",
      "from subprocess import call\n",
      "from scipy.io import wavfile\n",
      "from collections import defaultdict\n",
      "from sklearn.cross_validation import train_test_split\n",
      "from sklearn.svm import SVC\n",
      "from collections import namedtuple\n",
      "import sklearn.metrics as metrics"
     ],
     "language": "python",
     "outputs": [],
     "prompt_number": 2
    },
    {
     "cell_type": "code",
     "collapsed": false,
     "input": [
      "import spectral\n",
      "from textgrid import TextGrid"
     ],
     "language": "python",
     "outputs": [],
     "prompt_number": 3
    },
    {
     "cell_type": "code",
     "collapsed": false,
     "input": [
      "def rglob(rootdir, pattern):\n",
      "    for root, _, files in os.walk(rootdir):\n",
      "        for basename in files:\n",
      "            if fnmatch.fnmatch(basename, pattern):\n",
      "                yield path.join(root, basename)"
     ],
     "language": "python",
     "outputs": [],
     "prompt_number": 4
    },
    {
     "cell_type": "code",
     "collapsed": false,
     "input": [
      "def play(sig, fs, start_sec, end_sec):\n",
      "    audiolab.play(sig[start_sec * fs: end_sec * fs], fs)"
     ],
     "language": "python",
     "outputs": [],
     "prompt_number": 5
    },
    {
     "cell_type": "markdown",
     "source": [
      "Blue Monkeys\n",
      "============"
     ]
    },
    {
     "cell_type": "code",
     "collapsed": false,
     "input": [
      "bluemonkeydir = '/home/mwv/data/monkey_sounds/Blue_monkeys/'"
     ],
     "language": "python",
     "outputs": [],
     "prompt_number": 6
    },
    {
     "cell_type": "code",
     "collapsed": false,
     "input": [
      "# sox the wav files\n",
      "for wav in itertools.chain(rglob(bluemonkeydir, '*.wav'), rglob(bluemonkeydir, '*.WAV')):\n",
      "    call(['sox',\n",
      "\t  wav,\n",
      "\t  path.join(bluemonkeydir,\n",
      "\t\t    path.splitext(path.basename(wav))[0] + '_soxed.wav')])    "
     ],
     "language": "python",
     "outputs": [],
     "prompt_number": 6
    },
    {
     "cell_type": "code",
     "collapsed": false,
     "input": [
      "# read textgrids\n",
      "annot = defaultdict(list)  # dict from filename to list of intervals\n",
      "for textgridfile in rglob(path.join(bluemonkeydir, 'textgrids'), '*.TextGrid'):\n",
      "    key = path.splitext(path.basename(textgridfile))[0]\n",
      "    try:\n",
      "\ttg = TextGrid.read(textgridfile)\n",
      "    except Exception as e:\n",
      "\tprint key\n",
      "\traise e\n",
      "    tier = tg.tiers[0]\n",
      "    for interval in tier:\n",
      "\tif interval.mark.strip() != '':\n",
      "\t    annot[key].append((interval.mark.strip(), interval.start-tier.start))\n"
     ],
     "language": "python",
     "outputs": [],
     "prompt_number": 7
    },
    {
     "cell_type": "code",
     "collapsed": false,
     "input": [
      "labelset = sorted(list(set(x[0] for f in annot.itervalues() for x in f)))\n",
      "label2idx = dict(zip(labelset, range(len(labelset))))\n",
      "idx2label = dict(zip(range(len(labelset)), labelset))\n",
      "nsamples = sum(map(len, annot.values()))\n",
      "print 'number of samples:', nsamples\n",
      "print 'unique labels:', labelset\n",
      "nsamples_per_label = defaultdict(int)\n",
      "for vals in annot.itervalues():\n",
      "    for mark, _ in vals:\n",
      "\tnsamples_per_label[mark] += 1\n",
      "print nsamples_per_label"
     ],
     "language": "python",
     "outputs": [
      {
       "output_type": "stream",
       "stream": "stdout",
       "text": [
        "number of samples: 272\n",
        "unique labels: ['h', 'p']\n",
        "defaultdict(<type 'int'>, {'h': 145, 'p': 127})\n"
       ]
      }
     ],
     "prompt_number": 9
    },
    {
     "cell_type": "code",
     "collapsed": false,
     "input": [
      "# load one wave file to get samplerate\n",
      "wav = rglob(bluemonkeydir, '*.wav').next()\n",
      "fs, sound = wavfile.read(wav)\n",
      "print 'sampling rate:', fs\n",
      "print 'nchannels:', len(sound.shape)"
     ],
     "language": "python",
     "outputs": [
      {
       "output_type": "stream",
       "stream": "stdout",
       "text": [
        "sampling rate: 16000\n",
        "nchannels: 1\n"
       ]
      }
     ],
     "prompt_number": 11
    },
    {
     "cell_type": "code",
     "collapsed": false,
     "input": [
      "nfilt = 40\n",
      "wlen = 0.025\n",
      "frate = 100\n",
      "encoder = spectral.Spectral(nfilt=nfilt, fs=fs, wlen=wlen, frate=frate, compression='log', nfft=1024,\n",
      "\t\t\t    do_dct=False, do_deltas=False, do_deltasdeltas=False)\n",
      "\n",
      "NFRAMES = 50  # 500 ms window after call start"
     ],
     "language": "python",
     "outputs": [],
     "prompt_number": 12
    },
    {
     "cell_type": "code",
     "collapsed": false,
     "input": [
      "# load data\n",
      "X = np.empty((nsamples, NFRAMES*nfilt), dtype=np.double)\n",
      "y = np.empty((nsamples,), dtype=np.uint8)\n",
      "idx = 0\n",
      "for fname in annot:\n",
      "    wav = path.join(bluemonkeydir, 'audio', fname + '.wav')\n",
      "    if not path.exists(wav):\n",
      "\tprint 'missing wave file:', fname\n",
      "\tcontinue\n",
      "    _, sig = wavfile.read(wav)\n",
      "    if len(sig.shape) > 1:\n",
      "\tsig = (sig[:,0] + sig[:,1]) / 2\n",
      "    spec = encoder.transform(sig)\n",
      "    \n",
      "    for mark, start in annot[fname]:\n",
      "\tif int(start*frate) + NFRAMES >= spec.shape[0]:\n",
      "\t    s = spec[int(start*frate): int(start*frate)+NFRAMES]\n",
      "\t    extra_zeros = np.zeros((int(start*frate)+NFRAMES-spec.shape[0], nfilt), dtype=s.dtype)\n",
      "\t    x = np.vstack((s, extra_zeros))\n",
      "\t    X[idx] = np.hstack(x)\n",
      "\telse:\n",
      "\t    X[idx] = np.hstack(spec[int(start*frate):int(start*frate)+NFRAMES])\n",
      "\ty[idx] = label2idx[mark]\n",
      "\tidx += 1    "
     ],
     "language": "python",
     "outputs": [
      {
       "output_type": "stream",
       "stream": "stdout",
       "text": [
        "missing wave file: H9\n"
       ]
      }
     ],
     "prompt_number": 16
    },
    {
     "cell_type": "markdown",
     "source": [
      "Average \"Pyow\"\n",
      "=============="
     ]
    },
    {
     "cell_type": "code",
     "collapsed": false,
     "input": [
      "imshow(np.mean(X.reshape(nsamples, NFRAMES, nfilt)[y==1], axis=0).T[:,:30], interpolation='nearest')"
     ],
     "language": "python",
     "outputs": [
      {
       "output_type": "pyout",
       "prompt_number": 19,
       "text": [
        "<matplotlib.image.AxesImage at 0x7f1d4b14d990>"
       ]
      },
      {
       "output_type": "display_data",
       "png": "[encoded data removed]",
       "text": [
        "<matplotlib.figure.Figure at 0x7f1d4b1bfe50>"
       ]
      }
     ],
     "prompt_number": 19
    },
    {
     "cell_type": "markdown",
     "source": [
      "Average \"Hack\"\n",
      "=============="
     ]
    },
    {
     "cell_type": "code",
     "collapsed": false,
     "input": [
      "imshow(np.mean(X.reshape(nsamples, NFRAMES, nfilt)[y==0], axis=0).T[:,:30], interpolation='nearest')"
     ],
     "language": "python",
     "outputs": [
      {
       "output_type": "pyout",
       "prompt_number": 20,
       "text": [
        "<matplotlib.image.AxesImage at 0x7f1d4b081c90>"
       ]
      },
      {
       "output_type": "display_data",
       "png": "[encoded data removed]",
       "text": [
        "<matplotlib.figure.Figure at 0x7f1d4b108050>"
       ]
      }
     ],
     "prompt_number": 20
    },
    {
     "cell_type": "code",
     "collapsed": false,
     "input": [
      "# split into training and test sets\n",
      "X_train, X_test, y_train, y_test = train_test_split(X, y, test_size=0.2)\n",
      "# and magic\n",
      "clf = SVC(kernel='linear', C=1)\n",
      "clf.fit(X_train, y_train)\n",
      "print clf"
     ],
     "language": "python",
     "outputs": [
      {
       "output_type": "stream",
       "stream": "stdout",
       "text": [
        "SVC(C=1, cache_size=200, class_weight=None, coef0=0.0, degree=3, gamma=0.0,\n",
        "  kernel=linear, max_iter=-1, probability=False, random_state=None,\n",
        "  shrinking=True, tol=0.001, verbose=False)\n"
       ]
      }
     ],
     "prompt_number": 32
    },
    {
     "cell_type": "code",
     "collapsed": false,
     "input": [
      "print X_train.shape\n",
      "print X_test.shape"
     ],
     "language": "python",
     "outputs": [
      {
       "output_type": "stream",
       "stream": "stdout",
       "text": [
        "(217, 2000)\n",
        "(55, 2000)\n"
       ]
      }
     ],
     "prompt_number": 33
    },
    {
     "cell_type": "code",
     "collapsed": false,
     "input": [
      "y_pred = clf.predict(X_test)\n",
      "print metrics.confusion_matrix(y_test, y_pred)\n",
      "print metrics.classification_report(y_test, y_pred)"
     ],
     "language": "python",
     "outputs": [
      {
       "output_type": "stream",
       "stream": "stdout",
       "text": [
        "[[34  1]\n",
        " [ 0 20]]\n",
        "             precision    recall  f1-score   support\n",
        "\n",
        "          0       1.00      0.97      0.99        35\n",
        "          1       0.95      1.00      0.98        20\n",
        "\n",
        "avg / total       0.98      0.98      0.98        55\n",
        "\n"
       ]
      }
     ],
     "prompt_number": 34
    },
    {
     "cell_type": "markdown",
     "source": [
      "Titi Monkeys\n",
      "============"
     ]
    },
    {
     "cell_type": "code",
     "collapsed": false,
     "input": [
      "titimonkeydir = '/home/mwv/data/monkey_sounds/Titi_monkey_new/'"
     ],
     "language": "python",
     "outputs": [],
     "prompt_number": 16
    },
    {
     "cell_type": "code",
     "collapsed": false,
     "input": [
      "annot_file = '/home/mwv/data/monkey_sounds/titi_monkeys.csv'\n",
      "annot = defaultdict(list)\n",
      "for line in open(annot_file, 'r'):\n",
      "    fname, start, label = line.strip().split(':')\n",
      "    fname = fname.strip()\n",
      "    start = float(start)\n",
      "    label = label.strip()\n",
      "    annot[fname].append((label, start))"
     ],
     "language": "python",
     "outputs": [
      {
       "ename": "IOError",
       "evalue": "[Errno 2] No such file or directory: '/home/mwv/data/monkey_sounds/titi_monkeys.csv'",
       "output_type": "pyerr",
       "traceback": [
        "\u001b[1;31m---------------------------------------------------------------------------\u001b[0m\n\u001b[1;31mIOError\u001b[0m                                   Traceback (most recent call last)",
        "\u001b[1;32m<ipython-input-23-8d0ea094b57d>\u001b[0m in \u001b[0;36m<module>\u001b[1;34m()\u001b[0m\n\u001b[0;32m      1\u001b[0m \u001b[0mannot_file\u001b[0m \u001b[1;33m=\u001b[0m \u001b[1;34m'/home/mwv/data/monkey_sounds/titi_monkeys.csv'\u001b[0m\u001b[1;33m\u001b[0m\u001b[0m\n\u001b[0;32m      2\u001b[0m \u001b[0mannot\u001b[0m \u001b[1;33m=\u001b[0m \u001b[0mdefaultdict\u001b[0m\u001b[1;33m(\u001b[0m\u001b[0mlist\u001b[0m\u001b[1;33m)\u001b[0m\u001b[1;33m\u001b[0m\u001b[0m\n\u001b[1;32m----> 3\u001b[1;33m \u001b[1;32mfor\u001b[0m \u001b[0mline\u001b[0m \u001b[1;32min\u001b[0m \u001b[0mopen\u001b[0m\u001b[1;33m(\u001b[0m\u001b[0mannot_file\u001b[0m\u001b[1;33m,\u001b[0m \u001b[1;34m'r'\u001b[0m\u001b[1;33m)\u001b[0m\u001b[1;33m:\u001b[0m\u001b[1;33m\u001b[0m\u001b[0m\n\u001b[0m\u001b[0;32m      4\u001b[0m     \u001b[0mfname\u001b[0m\u001b[1;33m,\u001b[0m \u001b[0mstart\u001b[0m\u001b[1;33m,\u001b[0m \u001b[0mlabel\u001b[0m \u001b[1;33m=\u001b[0m \u001b[0mline\u001b[0m\u001b[1;33m.\u001b[0m\u001b[0mstrip\u001b[0m\u001b[1;33m(\u001b[0m\u001b[1;33m)\u001b[0m\u001b[1;33m.\u001b[0m\u001b[0msplit\u001b[0m\u001b[1;33m(\u001b[0m\u001b[1;34m':'\u001b[0m\u001b[1;33m)\u001b[0m\u001b[1;33m\u001b[0m\u001b[0m\n\u001b[0;32m      5\u001b[0m     \u001b[0mfname\u001b[0m \u001b[1;33m=\u001b[0m \u001b[0mfname\u001b[0m\u001b[1;33m.\u001b[0m\u001b[0mstrip\u001b[0m\u001b[1;33m(\u001b[0m\u001b[1;33m)\u001b[0m\u001b[1;33m\u001b[0m\u001b[0m\n",
        "\u001b[1;31mIOError\u001b[0m: [Errno 2] No such file or directory: '/home/mwv/data/monkey_sounds/titi_monkeys.csv'"
       ]
      }
     ],
     "prompt_number": 23
    },
    {
     "cell_type": "code",
     "collapsed": false,
     "input": [
      "labelset = sorted(list(set(x[0] for f in annot.itervalues() for x in f)))\n",
      "label2idx = dict(zip(labelset, range(len(labelset))))\n",
      "idx2label = dict(zip(range(len(labelset)), labelset))\n",
      "nsamples = sum(map(len, annot.values()))\n",
      "print 'number of samples:', nsamples\n",
      "print 'unique labels:', labelset\n",
      "nsamples_per_label = defaultdict(int)\n",
      "for vals in annot.itervalues():\n",
      "    for mark, _ in vals:\n",
      "\tnsamples_per_label[mark] += 1\n",
      "print nsamples_per_label"
     ],
     "language": "python",
     "outputs": [
      {
       "output_type": "stream",
       "stream": "stdout",
       "text": [
        "number of samples: 187\n",
        "unique labels: ['Cheep', 'Chirp']\n",
        "defaultdict(<type 'int'>, {'Cheep': 70, 'Chirp': 117})\n"
       ]
      }
     ],
     "prompt_number": 138
    },
    {
     "cell_type": "code",
     "collapsed": false,
     "input": [
      "# load one wave file to get samplerate\n",
      "wav = rglob(titimonkeydir, '*_soxed.wav').next()\n",
      "fs, sound = wavfile.read(wav)\n",
      "print 'sampling rate:', fs\n",
      "print 'nchannels:', len(sound.shape)"
     ],
     "language": "python",
     "outputs": [
      {
       "ename": "NameError",
       "evalue": "name 'titimonkeydir' is not defined",
       "output_type": "pyerr",
       "traceback": [
        "\u001b[1;31m---------------------------------------------------------------------------\u001b[0m\n\u001b[1;31mNameError\u001b[0m                                 Traceback (most recent call last)",
        "\u001b[1;32m<ipython-input-185-8a9cd17ab4f0>\u001b[0m in \u001b[0;36m<module>\u001b[1;34m()\u001b[0m\n\u001b[0;32m      1\u001b[0m \u001b[1;31m# load one wave file to get samplerate\u001b[0m\u001b[1;33m\u001b[0m\u001b[1;33m\u001b[0m\u001b[0m\n\u001b[1;32m----> 2\u001b[1;33m \u001b[0mwav\u001b[0m \u001b[1;33m=\u001b[0m \u001b[0mrglob\u001b[0m\u001b[1;33m(\u001b[0m\u001b[0mtitimonkeydir\u001b[0m\u001b[1;33m,\u001b[0m \u001b[1;34m'*_soxed.wav'\u001b[0m\u001b[1;33m)\u001b[0m\u001b[1;33m.\u001b[0m\u001b[0mnext\u001b[0m\u001b[1;33m(\u001b[0m\u001b[1;33m)\u001b[0m\u001b[1;33m\u001b[0m\u001b[0m\n\u001b[0m\u001b[0;32m      3\u001b[0m \u001b[0mfs\u001b[0m\u001b[1;33m,\u001b[0m \u001b[0msound\u001b[0m \u001b[1;33m=\u001b[0m \u001b[0mwavfile\u001b[0m\u001b[1;33m.\u001b[0m\u001b[0mread\u001b[0m\u001b[1;33m(\u001b[0m\u001b[0mwav\u001b[0m\u001b[1;33m)\u001b[0m\u001b[1;33m\u001b[0m\u001b[0m\n\u001b[0;32m      4\u001b[0m \u001b[1;32mprint\u001b[0m \u001b[1;34m'sampling rate:'\u001b[0m\u001b[1;33m,\u001b[0m \u001b[0mfs\u001b[0m\u001b[1;33m\u001b[0m\u001b[0m\n\u001b[0;32m      5\u001b[0m \u001b[1;32mprint\u001b[0m \u001b[1;34m'nchannels:'\u001b[0m\u001b[1;33m,\u001b[0m \u001b[0mlen\u001b[0m\u001b[1;33m(\u001b[0m\u001b[0msound\u001b[0m\u001b[1;33m.\u001b[0m\u001b[0mshape\u001b[0m\u001b[1;33m)\u001b[0m\u001b[1;33m\u001b[0m\u001b[0m\n",
        "\u001b[1;31mNameError\u001b[0m: name 'titimonkeydir' is not defined"
       ]
      }
     ],
     "prompt_number": 185
    },
    {
     "cell_type": "code",
     "collapsed": false,
     "input": [
      "nfilt = 40\n",
      "wlen = 0.025\n",
      "frate = 100\n",
      "encoder = spectral.Spectral(nfilt=nfilt, fs=fs, wlen=wlen, frate=frate, compression='log', nfft=1024,\n",
      "\t\t\t    do_dct=False, do_deltas=False, do_deltasdeltas=False)\n",
      "\n",
      "NFRAMES = 50  # 500 ms window after call start"
     ],
     "language": "python",
     "outputs": [],
     "prompt_number": 140
    },
    {
     "cell_type": "code",
     "collapsed": false,
     "input": [
      "# load data\n",
      "X = np.empty((nsamples, NFRAMES*nfilt), dtype=np.double)\n",
      "y = np.empty((nsamples,), dtype=np.uint8)\n",
      "idx = 0\n",
      "for fname in annot:\n",
      "    wav = path.join(titimonkeydir, fname + '_soxed.wav')\n",
      "    if not path.exists(wav):\n",
      "\tprint fname\n",
      "\tcontinue\n",
      "    _, sig = wavfile.read(wav)\n",
      "    if len(sig.shape) > 1:\n",
      "\tsig = (sig[:,0] + sig[:,1]) / 2\n",
      "    spec = encoder.transform(sig)\n",
      "    \n",
      "    for mark, start in annot[fname]:\n",
      "\tif int(start*frate) + NFRAMES >= spec.shape[0]:\n",
      "\t    s = spec[int(start*frate): int(start*frate)+NFRAMES]\n",
      "\t    extra_zeros = np.zeros((int(start*frate)+NFRAMES-spec.shape[0], nfilt), dtype=s.dtype)\n",
      "\t    x = np.vstack((s, extra_zeros))\n",
      "\t    X[idx] = np.hstack(x)\n",
      "\telse:\n",
      "\t    X[idx] = np.hstack(spec[int(start*frate):int(start*frate)+NFRAMES])\n",
      "\ty[idx] = label2idx[mark]\n",
      "\tidx += 1    \n",
      "if idx < nsamples:\n",
      "    X = X[:idx]\n",
      "    y = y[:idx]"
     ],
     "language": "python",
     "outputs": [],
     "prompt_number": 141
    },
    {
     "cell_type": "code",
     "collapsed": false,
     "input": [
      "# split into training and test sets\n",
      "X_train, X_test, y_train, y_test = train_test_split(X, y, test_size=0.2)\n",
      "# and magic\n",
      "clf = SVC(kernel='linear', C=0.5)\n",
      "clf.fit(X_train, y_train)\n",
      "print clf\n",
      "y_pred = clf.predict(X_test)\n",
      "print metrics.confusion_matrix(y_test, y_pred)\n",
      "print metrics.classification_report(y_test, y_pred)"
     ],
     "language": "python",
     "outputs": [
      {
       "output_type": "stream",
       "stream": "stdout",
       "text": [
        "SVC(C=0.5, cache_size=200, class_weight=None, coef0=0.0, degree=3, gamma=0.0,\n",
        "  kernel=linear, max_iter=-1, probability=False, random_state=None,\n",
        "  shrinking=True, tol=0.001, verbose=False)\n",
        "[[11  0]\n",
        " [ 1 26]]\n",
        "             precision    recall  f1-score   support\n",
        "\n",
        "          0       0.92      1.00      0.96        11\n",
        "          1       1.00      0.96      0.98        27\n",
        "\n",
        "avg / total       0.98      0.97      0.97        38\n",
        "\n"
       ]
      }
     ],
     "prompt_number": 156
    },
    {
     "cell_type": "code",
     "collapsed": false,
     "input": [
      "import seaborn\n",
      "import cPickle as pickle\n",
      "from scipy.special import expit\n",
      "from sklearn.metrics import roc_curve, auc, f1_score, precision_score, recall_score\n",
      "import eval_mad as em\n",
      "reload(em)\n"
     ],
     "language": "python",
     "outputs": [
      {
       "output_type": "pyout",
       "prompt_number": 120,
       "text": [
        "<module 'eval_mad' from 'eval_mad.pyc'>"
       ]
      }
     ],
     "prompt_number": 120
    },
    {
     "cell_type": "code",
     "collapsed": false,
     "input": [
      "monkey = 'Blue_monkeys'\n",
      "pred_lambda = em.get_lambda_est(monkey)\n",
      "exp_calls = em.get_exp_call_activity(monkey, 0.05, 0.025)"
     ],
     "language": "python",
     "outputs": [],
     "prompt_number": 132
    },
    {
     "cell_type": "code",
     "collapsed": false,
     "input": [
      "keys = sorted(list(set(exp_calls.keys()).intersection(set(pred_lambda.keys()))))\n",
      "pred_all = np.hstack((pred_lambda[k] for k in keys))\n",
      "exp_all = np.hstack((exp_calls[k] for k in keys))"
     ],
     "language": "python",
     "outputs": [],
     "prompt_number": 133
    },
    {
     "cell_type": "code",
     "collapsed": false,
     "input": [
      "def get_score_at(exp, pred_lambda, threshold):\n",
      "    pred = (pred_lambda > threshold).astype(np.uint8)\n",
      "    return f1_score(exp, pred), precision_score(exp, pred), recall_score(exp, pred)"
     ],
     "language": "python",
     "outputs": [],
     "prompt_number": 121
    },
    {
     "cell_type": "code",
     "collapsed": false,
     "input": [
      "ths = np.arange(0., 1.0, .05)\n",
      "scores = np.zeros((ths.shape[0], 3))\n",
      "for idx, x in enumerate(ths):\n",
      "    scores[idx] = get_score_at(exp_all, pred_all, x)\n",
      "figure(figsize=(10,10))\n",
      "plot(ths, scores[:, 0], label='fscore')\n",
      "plot(ths, scores[:, 1], label='precision')\n",
      "plot(ths, scores[:, 2], label='recall')\n",
      "legend(loc='best')"
     ],
     "language": "python",
     "outputs": [
      {
       "output_type": "pyout",
       "prompt_number": 137,
       "text": [
        "<matplotlib.legend.Legend at 0x7f803a660810>"
       ]
      },
      {
       "output_type": "display_data",
       "png": "[encoded data removed]",
       "text": [
        "<matplotlib.figure.Figure at 0x7f80528d13d0>"
       ]
      }
     ],
     "prompt_number": 137
    },
    {
     "cell_type": "code",
     "collapsed": false,
     "input": [
      "import scipy.optimize\n",
      "res = scipy.optimize.minimize_scalar(get_fscore_at, bounds=(-10,10), method='bounded')\n",
      "p = res.x\n",
      "print 'recall: {0}\\nprecision: {1}\\nfscore: {2}\\n'.format(*get_score_at(p))"
     ],
     "language": "python",
     "outputs": [
      {
       "output_type": "stream",
       "stream": "stdout",
       "text": [
        "recall: 0.668427518428\n",
        "precision: 0.133728482718\n",
        "fscore: 0.208299256484\n",
        "\n"
       ]
      }
     ],
     "prompt_number": 226
    },
    {
     "cell_type": "code",
     "collapsed": false,
     "input": [
      "import mielke_replication as mr\n",
      "reload(mr)"
     ],
     "language": "python",
     "outputs": [
      {
       "output_type": "pyout",
       "prompt_number": 35,
       "text": [
        "<module 'mielke_replication' from 'mielke_replication.py'>"
       ]
      }
     ],
     "prompt_number": 35
    },
    {
     "cell_type": "code",
     "collapsed": false,
     "input": [
      "X, y, labelset = mr.load_all()"
     ],
     "language": "python",
     "outputs": [],
     "prompt_number": 36
    },
    {
     "cell_type": "code",
     "collapsed": false,
     "input": [
      "from itertools import repeat, chain\n",
      "combined_labels = []\n",
      "for monkey in labelset:\n",
      "    for label in labelset[monkey]:\n",
      "\tcombined_labels.append(monkey + '-' + label)\n",
      "\t"
     ],
     "language": "python",
     "outputs": [],
     "prompt_number": 39
    },
    {
     "cell_type": "code",
     "collapsed": false,
     "input": [
      "combined_labels"
     ],
     "language": "python",
     "outputs": [
      {
       "output_type": "pyout",
       "prompt_number": 40,
       "text": [
        "['colobus-r',\n",
        " 'colobus-s',\n",
        " 'Blue_monkeys-h',\n",
        " 'Blue_monkeys-p',\n",
        " 'Titi_monkeys-A',\n",
        " 'Titi_monkeys-B']"
       ]
      }
     ],
     "prompt_number": 40
    },
    {
     "cell_type": "code",
     "collapsed": false,
     "input": [
      "annot = mr.get_annotation('Titi_monkeys')\n",
      "labelcounts = defaultdict(int)\n",
      "for fragments in annot.itervalues():\n",
      "    for fragment in fragments:\n",
      "\tlabelcounts[fragment.mark] += 1"
     ],
     "language": "python",
     "outputs": [],
     "prompt_number": 27
    },
    {
     "cell_type": "code",
     "collapsed": false,
     "input": [
      "labelcounts.keys"
     ],
     "language": "python",
     "outputs": [
      {
       "output_type": "pyout",
       "prompt_number": 28,
       "text": [
        "defaultdict(<type 'int'>, {'A': 125, 'C': 14, 'B': 539, 'O': 3, 'Bw': 7, 'BS': 19, 'x': 2, 'B?': 1, '?': 4})"
       ]
      }
     ],
     "prompt_number": 28
    },
    {
     "cell_type": "code",
     "collapsed": false,
     "input": [
      "seaborn.set(style='white', palette='muted')\n",
      "for monkey in ['Titi_monkeys', 'Blue_monkeys', 'colobus']:\n",
      "    fig = plt.figure()\n",
      "    seaborn.despine(left=True)\n",
      "    annot = mr.get_annotation(monkey)\n",
      "    lengths = defaultdict(list)\n",
      "    for fragments in annot.itervalues():\n",
      "\tfor fragment in fragments:\n",
      "\t    lengths[fragment.mark].append(fragment.interval.end - fragment.interval.start)\n",
      "    lengths = {k: np.array(v) for k, v in lengths.iteritems() if len(v) > 50}\n",
      "    for label in lengths:\n",
      "\tseaborn.distplot(lengths[label], label='{0} [{1:.2f}s-{2:.2f}s]'.format(\n",
      "\t    label, lengths[label].min(), lengths[label].max()))\n",
      "\tplt.legend(loc='best')\n",
      "    plt.yticks([])\n",
      "    plt.savefig('duration_{0}.png'.format(monkey))    "
     ],
     "language": "python",
     "outputs": [
      {
       "output_type": "display_data",
       "png": "[encoded data removed]",
       "text": [
        "<matplotlib.figure.Figure at 0x7f8037ec7d90>"
       ]
      },
      {
       "output_type": "display_data",
       "png": "[encoded data removed]",
       "text": [
        "<matplotlib.figure.Figure at 0x7f805278c950>"
       ]
      },
      {
       "output_type": "display_data",
       "png": "[encoded data removed]",
       "text": [
        "<matplotlib.figure.Figure at 0x7f803b0869d0>"
       ]
      }
     ],
     "prompt_number": 193
    },
    {
     "cell_type": "code",
     "collapsed": false,
     "input": [],
     "language": "python",
     "outputs": []
    }
   ]
  }
 ]
}