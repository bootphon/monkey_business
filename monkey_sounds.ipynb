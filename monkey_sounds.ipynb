{
 "metadata": {
  "name": "",
  "signature": "sha256:0f5291c4b0d83174ac1756b4dd9d8afc2bb06024d8ade4e2043c22df44369114"
 },
 "nbformat": 3,
 "nbformat_minor": 0,
 "worksheets": [
  {
   "cells": [
    {
     "cell_type": "code",
     "collapsed": false,
     "input": [
      "import numpy as np\n",
      "import matplotlib.pyplot as plt\n",
      "import scikits.audiolab as audiolab\n",
      "import os\n",
      "import os.path as path\n",
      "import fnmatch\n",
      "import itertools\n",
      "from subprocess import call\n",
      "from scipy.io import wavfile\n",
      "from collections import defaultdict\n",
      "from sklearn.cross_validation import train_test_split\n",
      "from sklearn.svm import SVC\n",
      "import sklearn.metrics as metrics"
     ],
     "language": "python",
     "metadata": {},
     "outputs": [],
     "prompt_number": 1
    },
    {
     "cell_type": "code",
     "collapsed": false,
     "input": [
      "import spectral\n",
      "from textgrid import TextGrid"
     ],
     "language": "python",
     "metadata": {},
     "outputs": [],
     "prompt_number": 2
    },
    {
     "cell_type": "code",
     "collapsed": false,
     "input": [
      "def rglob(rootdir, pattern):\n",
      "    for root, _, files in os.walk(rootdir):\n",
      "        for basename in files:\n",
      "            if fnmatch.fnmatch(basename, pattern):\n",
      "                yield path.join(root, basename)"
     ],
     "language": "python",
     "metadata": {},
     "outputs": [],
     "prompt_number": 3
    },
    {
     "cell_type": "code",
     "collapsed": false,
     "input": [
      "def play(sig, fs, start_sec, end_sec):\n",
      "    audiolab.play(sig[start_sec * fs: end_sec * fs], fs)"
     ],
     "language": "python",
     "metadata": {},
     "outputs": [],
     "prompt_number": 4
    },
    {
     "cell_type": "markdown",
     "metadata": {},
     "source": [
      "Blue Monkeys\n",
      "============"
     ]
    },
    {
     "cell_type": "code",
     "collapsed": false,
     "input": [
      "bluemonkeydir = '/home/mwv/data/monkey_sounds/Blue_monkey/'"
     ],
     "language": "python",
     "metadata": {},
     "outputs": [],
     "prompt_number": 5
    },
    {
     "cell_type": "code",
     "collapsed": false,
     "input": [
      "# sox the wav files\n",
      "for wav in itertools.chain(rglob(bluemonkeydir, '*.wav'), rglob(bluemonkeydir, '*.WAV')):\n",
      "    call(['sox',\n",
      "\t  wav,\n",
      "\t  path.join(bluemonkeydir,\n",
      "\t\t    path.splitext(path.basename(wav))[0] + '_soxed.wav')])    "
     ],
     "language": "python",
     "metadata": {},
     "outputs": [],
     "prompt_number": 6
    },
    {
     "cell_type": "code",
     "collapsed": false,
     "input": [
      "# read textgrids\n",
      "annot = defaultdict(list)  # dict from filename to list of intervals\n",
      "for textgridfile in rglob(bluemonkeydir, '*.TextGrid'):\n",
      "    key = path.splitext(path.basename(textgridfile))[0]\n",
      "    try:\n",
      "\ttg = TextGrid.read(textgridfile)\n",
      "    except Exception as e:\n",
      "\tprint key\n",
      "\traise e\n",
      "    tier = tg.tiers[0]\n",
      "    for interval in tier:\n",
      "\tif interval.mark.strip() != '':\n",
      "\t    annot[key].append((interval.mark.strip(), interval.start-tier.start))\n"
     ],
     "language": "python",
     "metadata": {},
     "outputs": [],
     "prompt_number": 7
    },
    {
     "cell_type": "code",
     "collapsed": false,
     "input": [
      "labelset = sorted(list(set(x[0] for f in annot.itervalues() for x in f)))\n",
      "label2idx = dict(zip(labelset, range(len(labelset))))\n",
      "idx2label = dict(zip(range(len(labelset)), labelset))\n",
      "nsamples = sum(map(len, annot.values()))\n",
      "print 'number of samples:', nsamples\n",
      "print 'unique labels:', labelset\n",
      "nsamples_per_label = defaultdict(int)\n",
      "for vals in annot.itervalues():\n",
      "    for mark, _ in vals:\n",
      "\tnsamples_per_label[mark] += 1\n",
      "print nsamples_per_label"
     ],
     "language": "python",
     "metadata": {},
     "outputs": [
      {
       "output_type": "stream",
       "stream": "stdout",
       "text": [
        "number of samples: 251\n",
        "unique labels: ['h', 'p']\n",
        "defaultdict(<type 'int'>, {'h': 144, 'p': 107})\n"
       ]
      }
     ],
     "prompt_number": 8
    },
    {
     "cell_type": "code",
     "collapsed": false,
     "input": [
      "# load one wave file to get samplerate\n",
      "wav = rglob(bluemonkeydir, '*_soxed.wav').next()\n",
      "fs, sound = wavfile.read(wav)\n",
      "print 'sampling rate:', fs\n",
      "print 'nchannels:', len(sound.shape)"
     ],
     "language": "python",
     "metadata": {},
     "outputs": [
      {
       "output_type": "stream",
       "stream": "stdout",
       "text": [
        "sampling rate: 44100\n",
        "nchannels: 1\n"
       ]
      }
     ],
     "prompt_number": 9
    },
    {
     "cell_type": "code",
     "collapsed": false,
     "input": [
      "nfilt = 40\n",
      "wlen = 0.025\n",
      "frate = 100\n",
      "encoder = spectral.Spectral(nfilt=nfilt, fs=fs, wlen=wlen, frate=frate, compression='log', nfft=1024,\n",
      "\t\t\t    do_dct=False, do_deltas=False, do_deltasdeltas=False)\n",
      "\n",
      "NFRAMES = 50  # 500 ms window after call start"
     ],
     "language": "python",
     "metadata": {},
     "outputs": [],
     "prompt_number": 10
    },
    {
     "cell_type": "code",
     "collapsed": false,
     "input": [
      "wavs = list(rglob(bluemonkeydir, '*_soxed.wav'))\n",
      "fs1, sound1 = wavfile.read(wavs[0])\n",
      "fs2, sound2 = wavfile.read(wavs[1])\n",
      "spec1 = encoder.transform(sound1)\n",
      "spec2 = encoder.transform(sound2)"
     ],
     "language": "python",
     "metadata": {},
     "outputs": []
    },
    {
     "cell_type": "code",
     "collapsed": false,
     "input": [
      "spec1.shape"
     ],
     "language": "python",
     "metadata": {},
     "outputs": [
      {
       "metadata": {},
       "output_type": "pyout",
       "prompt_number": 29,
       "text": [
        "(42063, 40)"
       ]
      }
     ],
     "prompt_number": 29
    },
    {
     "cell_type": "code",
     "collapsed": false,
     "input": [
      "del d"
     ],
     "language": "python",
     "metadata": {},
     "outputs": [],
     "prompt_number": 26
    },
    {
     "cell_type": "code",
     "collapsed": false,
     "input": [
      "import scipy.spatial\n",
      "help(scipy.spatial.distance.squareform)"
     ],
     "language": "python",
     "metadata": {},
     "outputs": [
      {
       "output_type": "stream",
       "stream": "stdout",
       "text": [
        "Help on function squareform in module scipy.spatial.distance:\n",
        "\n",
        "squareform(X, force='no', checks=True)\n",
        "    Converts a vector-form distance vector to a square-form distance\n",
        "    matrix, and vice-versa.\n",
        "    \n",
        "    Parameters\n",
        "    ----------\n",
        "    X : ndarray\n",
        "        Either a condensed or redundant distance matrix.\n",
        "    force : str, optional\n",
        "        As with MATLAB(TM), if force is equal to 'tovector' or 'tomatrix',\n",
        "        the input will be treated as a distance matrix or distance vector\n",
        "        respectively.\n",
        "    checks : bool, optional\n",
        "        If `checks` is set to False, no checks will be made for matrix\n",
        "        symmetry nor zero diagonals. This is useful if it is known that\n",
        "        ``X - X.T1`` is small and ``diag(X)`` is close to zero.\n",
        "        These values are ignored any way so they do not disrupt the\n",
        "        squareform transformation.\n",
        "    \n",
        "    Returns\n",
        "    -------\n",
        "    Y : ndarray\n",
        "        If a condensed distance matrix is passed, a redundant one is\n",
        "        returned, or if a redundant one is passed, a condensed distance\n",
        "        matrix is returned.\n",
        "    \n",
        "    Notes\n",
        "    -----\n",
        "    \n",
        "    1. v = squareform(X)\n",
        "    \n",
        "       Given a square d-by-d symmetric distance matrix X,\n",
        "       ``v=squareform(X)`` returns a ``d * (d-1) / 2`` (or\n",
        "       `${n \\choose 2}$`) sized vector v.\n",
        "    \n",
        "      v[{n \\choose 2}-{n-i \\choose 2} + (j-i-1)] is the distance\n",
        "      between points i and j. If X is non-square or asymmetric, an error\n",
        "      is returned.\n",
        "    \n",
        "    2. X = squareform(v)\n",
        "    \n",
        "      Given a d*d(-1)/2 sized v for some integer d>=2 encoding distances\n",
        "      as described, X=squareform(v) returns a d by d distance matrix X. The\n",
        "      X[i, j] and X[j, i] values are set to\n",
        "      v[{n \\choose 2}-{n-i \\choose 2} + (j-u-1)] and all\n",
        "      diagonal elements are zero.\n",
        "\n"
       ]
      }
     ],
     "prompt_number": 28
    },
    {
     "cell_type": "code",
     "collapsed": false,
     "input": [
      "d = scipy.spatial.distance.squareform(scipy.spatial.distance.pdist(spec1[:20000], 'cosine'))\n"
     ],
     "language": "python",
     "metadata": {},
     "outputs": [],
     "prompt_number": 35
    },
    {
     "cell_type": "code",
     "collapsed": false,
     "input": [
      "imshow(d, interpolation='nearest')\n",
      "show()"
     ],
     "language": "python",
     "metadata": {},
     "outputs": [
      {
       "metadata": {},
       "output_type": "display_data",
       "text": [
        "<matplotlib.figure.Figure at 0x5e22b90>"
       ]
      }
     ],
     "prompt_number": 38
    },
    {
     "cell_type": "code",
     "collapsed": false,
     "input": [
      "del d"
     ],
     "language": "python",
     "metadata": {},
     "outputs": [],
     "prompt_number": 39
    },
    {
     "cell_type": "code",
     "collapsed": false,
     "input": [
      "scipy.spatial.distance.squareform(d).shape"
     ],
     "language": "python",
     "metadata": {},
     "outputs": [
      {
       "ename": "MemoryError",
       "evalue": "",
       "output_type": "pyerr",
       "traceback": [
        "\u001b[1;31m---------------------------------------------------------------------------\u001b[0m\n\u001b[1;31mMemoryError\u001b[0m                               Traceback (most recent call last)",
        "\u001b[1;32m<ipython-input-24-5ebc0f055f2d>\u001b[0m in \u001b[0;36m<module>\u001b[1;34m()\u001b[0m\n\u001b[1;32m----> 1\u001b[1;33m \u001b[0mscipy\u001b[0m\u001b[1;33m.\u001b[0m\u001b[0mspatial\u001b[0m\u001b[1;33m.\u001b[0m\u001b[0mdistance\u001b[0m\u001b[1;33m.\u001b[0m\u001b[0msquareform\u001b[0m\u001b[1;33m(\u001b[0m\u001b[0md\u001b[0m\u001b[1;33m)\u001b[0m\u001b[1;33m.\u001b[0m\u001b[0mshape\u001b[0m\u001b[1;33m\u001b[0m\u001b[0m\n\u001b[0m",
        "\u001b[1;32m/usr/lib/python2.7/site-packages/scipy/spatial/distance.pyc\u001b[0m in \u001b[0;36msquareform\u001b[1;34m(X, force, checks)\u001b[0m\n\u001b[0;32m   1463\u001b[0m \u001b[1;33m\u001b[0m\u001b[0m\n\u001b[0;32m   1464\u001b[0m         \u001b[1;31m# Allocate memory for the distance matrix.\u001b[0m\u001b[1;33m\u001b[0m\u001b[1;33m\u001b[0m\u001b[0m\n\u001b[1;32m-> 1465\u001b[1;33m         \u001b[0mM\u001b[0m \u001b[1;33m=\u001b[0m \u001b[0mnp\u001b[0m\u001b[1;33m.\u001b[0m\u001b[0mzeros\u001b[0m\u001b[1;33m(\u001b[0m\u001b[1;33m(\u001b[0m\u001b[0md\u001b[0m\u001b[1;33m,\u001b[0m \u001b[0md\u001b[0m\u001b[1;33m)\u001b[0m\u001b[1;33m,\u001b[0m \u001b[0mdtype\u001b[0m\u001b[1;33m=\u001b[0m\u001b[0mnp\u001b[0m\u001b[1;33m.\u001b[0m\u001b[0mdouble\u001b[0m\u001b[1;33m)\u001b[0m\u001b[1;33m\u001b[0m\u001b[0m\n\u001b[0m\u001b[0;32m   1466\u001b[0m \u001b[1;33m\u001b[0m\u001b[0m\n\u001b[0;32m   1467\u001b[0m         \u001b[1;31m# Since the C code does not support striding using strides.\u001b[0m\u001b[1;33m\u001b[0m\u001b[1;33m\u001b[0m\u001b[0m\n",
        "\u001b[1;31mMemoryError\u001b[0m: "
       ]
      }
     ],
     "prompt_number": 24
    },
    {
     "cell_type": "code",
     "collapsed": false,
     "input": [
      "# load data\n",
      "X = np.empty((nsamples, NFRAMES*nfilt), dtype=np.double)\n",
      "y = np.empty((nsamples,), dtype=np.uint8)\n",
      "idx = 0\n",
      "for fname in annot:\n",
      "    wav = path.join(bluemonkeydir, fname + '_soxed.wav')\n",
      "    if not path.exists(wav):\n",
      "\tprint 'missing wave file:', fname\n",
      "\tcontinue\n",
      "    _, sig = wavfile.read(wav)\n",
      "    if len(sig.shape) > 1:\n",
      "\tsig = (sig[:,0] + sig[:,1]) / 2\n",
      "    spec = encoder.transform(sig)\n",
      "    \n",
      "    for mark, start in annot[fname]:\n",
      "\tif int(start*frate) + NFRAMES >= spec.shape[0]:\n",
      "\t    s = spec[int(start*frate): int(start*frate)+NFRAMES]\n",
      "\t    extra_zeros = np.zeros((int(start*frate)+NFRAMES-spec.shape[0], nfilt), dtype=s.dtype)\n",
      "\t    x = np.vstack((s, extra_zeros))\n",
      "\t    X[idx] = np.hstack(x)\n",
      "\telse:\n",
      "\t    X[idx] = np.hstack(spec[int(start*frate):int(start*frate)+NFRAMES])\n",
      "\ty[idx] = label2idx[mark]\n",
      "\tidx += 1    "
     ],
     "language": "python",
     "metadata": {},
     "outputs": [],
     "prompt_number": 11
    },
    {
     "cell_type": "markdown",
     "metadata": {},
     "source": [
      "Average \"Pyow\"\n",
      "=============="
     ]
    },
    {
     "cell_type": "code",
     "collapsed": false,
     "input": [
      "imshow(np.mean(X.reshape(nsamples, NFRAMES, nfilt)[y==1], axis=0).T, interpolation='nearest')"
     ],
     "language": "python",
     "metadata": {},
     "outputs": [
      {
       "metadata": {},
       "output_type": "pyout",
       "prompt_number": 12,
       "text": [
        "<matplotlib.image.AxesImage at 0x528bc50>"
       ]
      },
      {
       "metadata": {},
       "output_type": "display_data",
       "png": "[encoded data removed]",
       "text": [
        "<matplotlib.figure.Figure at 0x400ba90>"
       ]
      }
     ],
     "prompt_number": 12
    },
    {
     "cell_type": "markdown",
     "metadata": {},
     "source": [
      "Average \"Hack\"\n",
      "=============="
     ]
    },
    {
     "cell_type": "code",
     "collapsed": false,
     "input": [
      "imshow(np.mean(X.reshape(nsamples, NFRAMES, nfilt)[y==0], axis=0).T, interpolation='nearest')"
     ],
     "language": "python",
     "metadata": {},
     "outputs": [
      {
       "metadata": {},
       "output_type": "pyout",
       "prompt_number": 13,
       "text": [
        "<matplotlib.image.AxesImage at 0x5524510>"
       ]
      },
      {
       "metadata": {},
       "output_type": "display_data",
       "png": "[encoded data removed]",
       "text": [
        "<matplotlib.figure.Figure at 0x40253d0>"
       ]
      }
     ],
     "prompt_number": 13
    },
    {
     "cell_type": "code",
     "collapsed": false,
     "input": [
      "# split into training and test sets\n",
      "X_train, X_test, y_train, y_test = train_test_split(X, y, test_size=0.2)\n",
      "# and magic\n",
      "clf = SVC(kernel='linear', C=1)\n",
      "clf.fit(X_train, y_train)\n",
      "print clf"
     ],
     "language": "python",
     "metadata": {},
     "outputs": [
      {
       "output_type": "stream",
       "stream": "stdout",
       "text": [
        "SVC(C=1, cache_size=200, class_weight=None, coef0=0.0, degree=3, gamma=0.0,\n",
        "  kernel=linear, max_iter=-1, probability=False, random_state=None,\n",
        "  shrinking=True, tol=0.001, verbose=False)\n"
       ]
      }
     ],
     "prompt_number": 42
    },
    {
     "cell_type": "code",
     "collapsed": false,
     "input": [
      "y_pred = clf.predict(X_test)\n",
      "print metrics.confusion_matrix(y_test, y_pred)\n",
      "print metrics.classification_report(y_test, y_pred)"
     ],
     "language": "python",
     "metadata": {},
     "outputs": [
      {
       "output_type": "stream",
       "stream": "stdout",
       "text": [
        "[[31  0]\n",
        " [ 0 20]]\n",
        "             precision    recall  f1-score   support\n",
        "\n",
        "          0       1.00      1.00      1.00        31\n",
        "          1       1.00      1.00      1.00        20\n",
        "\n",
        "avg / total       1.00      1.00      1.00        51\n",
        "\n"
       ]
      }
     ],
     "prompt_number": 43
    },
    {
     "cell_type": "markdown",
     "metadata": {},
     "source": [
      "Titi Monkeys\n",
      "============"
     ]
    },
    {
     "cell_type": "code",
     "collapsed": false,
     "input": [
      "titimonkeydir = '/home/mwv/data/monkey_sounds/Titi_monkey_new/'"
     ],
     "language": "python",
     "metadata": {},
     "outputs": [],
     "prompt_number": 16
    },
    {
     "cell_type": "code",
     "collapsed": false,
     "input": [
      "annot_file = '/home/mwv/data/monkey_sounds/titi_monkeys.csv'\n",
      "annot = defaultdict(list)\n",
      "for line in open(annot_file, 'r'):\n",
      "    fname, start, label = line.strip().split(':')\n",
      "    fname = fname.strip()\n",
      "    start = float(start)\n",
      "    label = label.strip()\n",
      "    annot[fname].append((label, start))"
     ],
     "language": "python",
     "metadata": {},
     "outputs": [],
     "prompt_number": 137
    },
    {
     "cell_type": "code",
     "collapsed": false,
     "input": [
      "labelset = sorted(list(set(x[0] for f in annot.itervalues() for x in f)))\n",
      "label2idx = dict(zip(labelset, range(len(labelset))))\n",
      "idx2label = dict(zip(range(len(labelset)), labelset))\n",
      "nsamples = sum(map(len, annot.values()))\n",
      "print 'number of samples:', nsamples\n",
      "print 'unique labels:', labelset\n",
      "nsamples_per_label = defaultdict(int)\n",
      "for vals in annot.itervalues():\n",
      "    for mark, _ in vals:\n",
      "\tnsamples_per_label[mark] += 1\n",
      "print nsamples_per_label"
     ],
     "language": "python",
     "metadata": {},
     "outputs": [
      {
       "output_type": "stream",
       "stream": "stdout",
       "text": [
        "number of samples: 187\n",
        "unique labels: ['Cheep', 'Chirp']\n",
        "defaultdict(<type 'int'>, {'Cheep': 70, 'Chirp': 117})\n"
       ]
      }
     ],
     "prompt_number": 138
    },
    {
     "cell_type": "code",
     "collapsed": false,
     "input": [
      "# load one wave file to get samplerate\n",
      "wav = rglob(titimonkeydir, '*_soxed.wav').next()\n",
      "fs, sound = wavfile.read(wav)\n",
      "print 'sampling rate:', fs\n",
      "print 'nchannels:', len(sound.shape)"
     ],
     "language": "python",
     "metadata": {},
     "outputs": [
      {
       "output_type": "stream",
       "stream": "stdout",
       "text": [
        "sampling rate: 44100\n",
        "nchannels: 2\n"
       ]
      }
     ],
     "prompt_number": 139
    },
    {
     "cell_type": "code",
     "collapsed": false,
     "input": [
      "nfilt = 40\n",
      "wlen = 0.025\n",
      "frate = 100\n",
      "encoder = spectral.Spectral(nfilt=nfilt, fs=fs, wlen=wlen, frate=frate, compression='log', nfft=1024,\n",
      "\t\t\t    do_dct=False, do_deltas=False, do_deltasdeltas=False)\n",
      "\n",
      "NFRAMES = 50  # 500 ms window after call start"
     ],
     "language": "python",
     "metadata": {},
     "outputs": [],
     "prompt_number": 140
    },
    {
     "cell_type": "code",
     "collapsed": false,
     "input": [
      "# load data\n",
      "X = np.empty((nsamples, NFRAMES*nfilt), dtype=np.double)\n",
      "y = np.empty((nsamples,), dtype=np.uint8)\n",
      "idx = 0\n",
      "for fname in annot:\n",
      "    wav = path.join(titimonkeydir, fname + '_soxed.wav')\n",
      "    if not path.exists(wav):\n",
      "\tprint fname\n",
      "\tcontinue\n",
      "    _, sig = wavfile.read(wav)\n",
      "    if len(sig.shape) > 1:\n",
      "\tsig = (sig[:,0] + sig[:,1]) / 2\n",
      "    spec = encoder.transform(sig)\n",
      "    \n",
      "    for mark, start in annot[fname]:\n",
      "\tif int(start*frate) + NFRAMES >= spec.shape[0]:\n",
      "\t    s = spec[int(start*frate): int(start*frate)+NFRAMES]\n",
      "\t    extra_zeros = np.zeros((int(start*frate)+NFRAMES-spec.shape[0], nfilt), dtype=s.dtype)\n",
      "\t    x = np.vstack((s, extra_zeros))\n",
      "\t    X[idx] = np.hstack(x)\n",
      "\telse:\n",
      "\t    X[idx] = np.hstack(spec[int(start*frate):int(start*frate)+NFRAMES])\n",
      "\ty[idx] = label2idx[mark]\n",
      "\tidx += 1    \n",
      "if idx < nsamples:\n",
      "    X = X[:idx]\n",
      "    y = y[:idx]"
     ],
     "language": "python",
     "metadata": {},
     "outputs": [],
     "prompt_number": 141
    },
    {
     "cell_type": "code",
     "collapsed": false,
     "input": [
      "# split into training and test sets\n",
      "X_train, X_test, y_train, y_test = train_test_split(X, y, test_size=0.2)\n",
      "# and magic\n",
      "clf = SVC(kernel='linear', C=0.5)\n",
      "clf.fit(X_train, y_train)\n",
      "print clf\n",
      "y_pred = clf.predict(X_test)\n",
      "print metrics.confusion_matrix(y_test, y_pred)\n",
      "print metrics.classification_report(y_test, y_pred)"
     ],
     "language": "python",
     "metadata": {},
     "outputs": [
      {
       "output_type": "stream",
       "stream": "stdout",
       "text": [
        "SVC(C=0.5, cache_size=200, class_weight=None, coef0=0.0, degree=3, gamma=0.0,\n",
        "  kernel=linear, max_iter=-1, probability=False, random_state=None,\n",
        "  shrinking=True, tol=0.001, verbose=False)\n",
        "[[11  0]\n",
        " [ 1 26]]\n",
        "             precision    recall  f1-score   support\n",
        "\n",
        "          0       0.92      1.00      0.96        11\n",
        "          1       1.00      0.96      0.98        27\n",
        "\n",
        "avg / total       0.98      0.97      0.97        38\n",
        "\n"
       ]
      }
     ],
     "prompt_number": 156
    }
   ],
   "metadata": {}
  }
 ]
}